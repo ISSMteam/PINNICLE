{
 "cells": [
  {
   "cell_type": "markdown",
   "id": "833e34b3",
   "metadata": {},
   "source": [
    "**Import packages (PINNICLE, os, numpy, datetime, and deepxe)**"
   ]
  },
  {
   "cell_type": "code",
   "execution_count": null,
   "id": "ab2dea95",
   "metadata": {},
   "outputs": [],
   "source": [
    "import pinnicle as pinn\n",
    "import os\n",
    "import numpy as np\n",
    "from datetime import datetime\n",
    "import deepxde as dde"
   ]
  },
  {
   "cell_type": "markdown",
   "id": "cc230466",
   "metadata": {},
   "source": [
    "**Set configuration for deepxde(dde):** default float type (‘float64’), disable xla_jit, set random seed (1234)\n",
    "<br>\n",
    "**deepxde examples:** https://deepxde.readthedocs.io/en/latest/"
   ]
  },
  {
   "cell_type": "code",
   "execution_count": null,
   "id": "990d62c6",
   "metadata": {},
   "outputs": [],
   "source": [
    "dde.config.set_default_float('float64')\n",
    "dde.config.disable_xla_jit()\n",
    "dde.config.set_random_seed(1234)"
   ]
  },
  {
   "cell_type": "markdown",
   "id": "e707f55d",
   "metadata": {},
   "source": [
    "**Create experiments:** create variable “datestr” and set it as datetime.now().strftime(“%Y%m%d_%H%M%S”)"
   ]
  },
  {
   "cell_type": "code",
   "execution_count": null,
   "id": "89ace198",
   "metadata": {},
   "outputs": [],
   "source": [
    "# create experiments\n",
    "datestr = datetime.now().strftime(\"%Y%m%d_%H%M%S\")"
   ]
  },
  {
   "cell_type": "markdown",
   "id": "7d291506",
   "metadata": {},
   "source": [
    "**Create date file and path:**\n",
    "<br>\n",
    "Create the “inputFileName” varible and set it as “Upernavik.mat”.\n",
    "<br>\n",
    "Create the “expFileName” variable and set it as “Upernavik.exp”."
   ]
  },
  {
   "cell_type": "code",
   "execution_count": null,
   "id": "6d7bceea",
   "metadata": {},
   "outputs": [],
   "source": [
    "# data file and path\n",
    "inputFileName=\"Upernavik_ForSade.mat\"\n",
    "expFileName = \"Upernavik-Copy1.exp\""
   ]
  },
  {
   "cell_type": "markdown",
   "id": "195d9a25",
   "metadata": {},
   "source": [
    "Create “repoPath” variable and set it as “./examples”.\n",
    "<br>\n",
    "Create “appDataPath” variable and set the path “os.path.join(repoPath, “dataset”).\n",
    "<br>\n",
    "Create “data_path” variable and set the path “os.path.join(appDataPath, inputFileName)”."
   ]
  },
  {
   "cell_type": "code",
   "execution_count": null,
   "id": "ba969078",
   "metadata": {},
   "outputs": [],
   "source": [
    "#inputFileName=\"Helheim_fastflow.mat\"\n",
    "#expFileName = \"Helheim_Big.exp\"\n",
    "repoPath = \"./examples/\"\n",
    "appDataPath = os.path.join(repoPath, \"dataset\")\n",
    "data_path = os.path.join(appDataPath, inputFileName)"
   ]
  },
  {
   "cell_type": "markdown",
   "id": "a030a0e6",
   "metadata": {},
   "source": [
    "Check data path"
   ]
  },
  {
   "cell_type": "code",
   "execution_count": null,
   "id": "5b545ee0",
   "metadata": {},
   "outputs": [],
   "source": [
    "data_path"
   ]
  },
  {
   "cell_type": "markdown",
   "id": "b9ddced6",
   "metadata": {},
   "source": [
    "**Create a path for saving results and figures:**\n",
    "<br>\n",
    "Create “ouputFileName” variable and set this as “Upernavik_test”.\n",
    "<br>\n",
    "Create the variable for folder “modelFolder” and set the folder “./Models/” + outputFileName + “ “ + datestr + “/””."
   ]
  },
  {
   "cell_type": "code",
   "execution_count": null,
   "id": "e5228d36",
   "metadata": {},
   "outputs": [],
   "source": [
    "# path for saving results and figures\n",
    "outputFileName=\"Upernavik_test\"\n",
    "#outputFileName=\"Helheim_test\"\n",
    "modelFolder = \"./Models/\" + outputFileName + \"_\" + datestr  + \"/\""
   ]
  },
  {
   "cell_type": "markdown",
   "id": "56a86e6e",
   "metadata": {},
   "source": [
    "**Set the general parameters:**\n",
    "<br>\n",
    "Create hyperparameters variable, “hp” and set this as { } \n",
    "<br>\n",
    "Set “hp[“epochs”] = 1000” Set “hp[“learning_rate”] = 0.001” \n",
    "<br>\n",
    "Set “hp[“save_path”] = modelFolder” \n",
    "<br>\n",
    "Set “hp[“is_save”] = True” \n",
    "<br>\n",
    "Set “hp[“is_plot”] = True”"
   ]
  },
  {
   "cell_type": "code",
   "execution_count": null,
   "id": "397d17ee",
   "metadata": {},
   "outputs": [],
   "source": [
    "# General parameters\n",
    "hp = {}\n",
    "hp[\"epochs\"] = 1000\n",
    "hp[\"learning_rate\"] = 0.001\n",
    "hp[\"loss_function\"] = \"MSE\"\n",
    "hp[\"save_path\"] = modelFolder\n",
    "hp[\"is_save\"] = True\n",
    "hp[\"is_plot\"] = True"
   ]
  },
  {
   "cell_type": "markdown",
   "id": "97b92bf2",
   "metadata": {},
   "source": [
    "**Set Neural Networks:**\n",
    "<br>\n",
    "Set “hp[“activation”] = “tanh”” \n",
    "<br>\n",
    "Set “hp[“initializer”] = “Glorot uniform”” \n",
    "<br>\n",
    "Set the number of neurons: “hp[“num_neurons”] = 20” \n",
    "<br>\n",
    "Set the number of layers” “hp[“num_layers”] = 6”"
   ]
  },
  {
   "cell_type": "code",
   "execution_count": null,
   "id": "941b7552",
   "metadata": {},
   "outputs": [],
   "source": [
    "# NN\n",
    "hp[\"activation\"] = \"tanh\"\n",
    "hp[\"initializer\"] = \"Glorot uniform\"\n",
    "hp[\"num_neurons\"] = 20\n",
    "hp[\"num_layers\"] = 6"
   ]
  },
  {
   "cell_type": "markdown",
   "id": "5be86553",
   "metadata": {},
   "source": []
  },
  {
   "cell_type": "markdown",
   "id": "7743f436",
   "metadata": {},
   "source": [
    "**Set the Data:**\n",
    "<br>\n",
    "Set issm, “issm = { }”\n",
    "<br>\n",
    "Set the data size for each of the issm data variables, “issm[“data_size”] = {“u”:1000, “v”:1000, “s”:1000, “H”:1000, “C”:None}”\n",
    "<br>\n",
    "Set the data path, “issm[“data_path”] = data_path”\n",
    "<br>\n",
    "Set “hp[“data”] = {“ISSM”:issm}”"
   ]
  },
  {
   "cell_type": "code",
   "execution_count": null,
   "id": "d2658e70",
   "metadata": {},
   "outputs": [],
   "source": [
    "# data\n",
    "issm = {}\n",
    "# issm[\"data_size\"] = {\"u\":1000, \"v\":1000, \"s\":1000, \"H\":1000, \"C\":None, \"vel\":1000}\n",
    "issm[\"data_size\"] = {\"u\":1000, \"v\":1000, \"s\":1000, \"H\":1000, \"C\":None}\n",
    "issm[\"data_path\"] = data_path\n",
    "hp[\"data\"] = {\"ISSM\":issm}"
   ]
  },
  {
   "cell_type": "markdown",
   "id": "0feba1b6",
   "metadata": {},
   "source": [
    "**Create the domain:**\n",
    "<br>\n",
    "Set the shapefile path, “hp[“shapefile”] = os.path.join(repoPath, “dataset”, expFileName)”\n",
    "<br>\n",
    "Set the collocation points, “hp[“num_collocation_points”] = 5000”\n"
   ]
  },
  {
   "cell_type": "code",
   "execution_count": null,
   "id": "7b2361f2",
   "metadata": {},
   "outputs": [],
   "source": [
    "# domain\n",
    "hp[\"shapefile\"] = os.path.join(repoPath, \"dataset\", expFileName)\n",
    "hp[\"num_collocation_points\"] = 5000"
   ]
  },
  {
   "cell_type": "markdown",
   "id": "c435bc72",
   "metadata": {},
   "source": [
    "**Set the additional loss function:**\n",
    "<br>\n",
    "Create the variable for velocity loss function: “vel_loss = { }”\n",
    "<br>\n",
    "Set “vel_loss[‘name’] = “vel log””\n",
    "<br>\n",
    "Set “vel_loss[‘function’] = “VEL_LOG””\n",
    "<br>\n",
    "Set “vel_loss[‘weight’] = 1.0e-5”\n",
    "<br>\n",
    "Set “hp[“additional_loss”] = {“vel”:vel_loss}”"
   ]
  },
  {
   "cell_type": "code",
   "execution_count": null,
   "id": "08bc9807",
   "metadata": {},
   "outputs": [],
   "source": [
    "# additional loss function\n",
    "# vel_loss = {}\n",
    "# vel_loss['name'] = \"vel log\"\n",
    "# vel_loss['function'] = \"VEL_LOG\"\n",
    "# vel_loss['weight'] = 1.0e-5\n",
    "# hp[\"additional_loss\"] = {\"vel\":vel_loss}"
   ]
  },
  {
   "cell_type": "markdown",
   "id": "7b7eb349",
   "metadata": {},
   "source": [
    "**Add the physics components:**\n",
    "<br>\n",
    "Create the variable for SSA, “SSA = { }”\n",
    "<br>\n",
    "Set “SSA[“scalar_variables”] = {“B”:1.26802073401e+08}”"
   ]
  },
  {
   "cell_type": "code",
   "execution_count": null,
   "id": "16ad20cd",
   "metadata": {},
   "outputs": [],
   "source": [
    "# physics\n",
    "SSA = {}\n",
    "SSA[\"scalar_variables\"] = {\"B\":1.26802073401e+08}\n",
    "hp[\"equations\"] = {\"SSA\":SSA}"
   ]
  },
  {
   "cell_type": "markdown",
   "id": "1595c0f3",
   "metadata": {},
   "source": [
    "**Create the experiment:**\n",
    "<br>\n",
    "Create the experiment variable and set it, “experiment = pinn.PINN(hp)”\n",
    "<br>\n",
    "Print out the experiment parameters, “print(experiment.params)”\n",
    "<br>\n",
    "Compile the experiment, “experiement.compile( )”"
   ]
  },
  {
   "cell_type": "code",
   "execution_count": null,
   "id": "f99f4d25",
   "metadata": {},
   "outputs": [],
   "source": [
    "# create experiment\n",
    "experiment = pinn.PINN(hp)\n",
    "print(experiment.params)\n",
    "experiment.compile()"
   ]
  },
  {
   "cell_type": "markdown",
   "id": "1e6ee2d3",
   "metadata": {},
   "source": [
    "**Train the experiment\n",
    "“experiment.train( )”**"
   ]
  },
  {
   "cell_type": "code",
   "execution_count": null,
   "id": "a917c1be",
   "metadata": {},
   "outputs": [],
   "source": [
    "# Train\n",
    "experiment.train()"
   ]
  },
  {
   "cell_type": "markdown",
   "id": "70673e1a",
   "metadata": {},
   "source": [
    "**Show the results:**\n",
    "<br>\n",
    "“experiment.plot_predictions(X_ref=experiments.model_data.data[“ISSM”].X_dict, sol_ref=experiment.model_data.data[“ISSM”].data_dict)”"
   ]
  },
  {
   "cell_type": "code",
   "execution_count": null,
   "id": "6e2bde9c",
   "metadata": {},
   "outputs": [],
   "source": [
    "# show results\n",
    "experiment.plot_predictions(X_ref=experiment.model_data.data[\"ISSM\"].X_dict, \n",
    "                            sol_ref=experiment.model_data.data[\"ISSM\"].data_dict)"
   ]
  }
 ],
 "metadata": {
  "kernelspec": {
   "display_name": "Python 3 (ipykernel)",
   "language": "python",
   "name": "python3"
  },
  "language_info": {
   "codemirror_mode": {
    "name": "ipython",
    "version": 3
   },
   "file_extension": ".py",
   "mimetype": "text/x-python",
   "name": "python",
   "nbconvert_exporter": "python",
   "pygments_lexer": "ipython3",
   "version": "3.9.7"
  }
 },
 "nbformat": 4,
 "nbformat_minor": 5
}
